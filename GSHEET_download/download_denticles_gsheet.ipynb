{
 "cells": [
  {
   "cell_type": "code",
   "execution_count": null,
   "id": "e686454a-6723-4222-a747-37078ff61d0f",
   "metadata": {},
   "outputs": [],
   "source": []
  },
  {
   "cell_type": "code",
   "execution_count": null,
   "id": "83ddd373-b0d6-4e74-8915-29ebe87b5458",
   "metadata": {},
   "outputs": [],
   "source": [
    "import pandas as pd\n",
    "API_KEY = ''\n",
    "SHEET_ID = '1wq-iHEoNbcY1DJIHjkFCTgbQCaRLFwcjJScZs1GJoYI'\n",
    "TEMPLATE_TAB = 'https://docs.google.com/spreadsheets/d/{SHEET}/gviz/tq?tqx=out:csv&sheet={TAB}'\n",
    "TEMPLATE_GID = 'https://docs.google.com/spreadsheets/d/{SHEET}/export?format=csv&id={SHEET}&gid={GID}'"
   ]
  },
  {
   "cell_type": "code",
   "execution_count": null,
   "id": "9ff7b798-4956-47fa-ba33-443cb64166c6",
   "metadata": {},
   "outputs": [],
   "source": []
  },
  {
   "cell_type": "code",
   "execution_count": null,
   "id": "e6538021-cb2c-4904-9508-551c6f5e1a12",
   "metadata": {
    "scrolled": true
   },
   "outputs": [],
   "source": [
    "import json\n",
    "with open('../denticle_codes.json') as f:\n",
    "    cats = json.load(f)\n",
    "cats"
   ]
  },
  {
   "cell_type": "code",
   "execution_count": null,
   "id": "91170efe-fa80-42c1-9711-81553e82c34c",
   "metadata": {
    "scrolled": true
   },
   "outputs": [],
   "source": [
    "codegroups = list(cats.keys())\n",
    "codegroups"
   ]
  },
  {
   "cell_type": "code",
   "execution_count": null,
   "id": "ffdd4773-17f9-417b-b5b5-6aa8fb5d42f5",
   "metadata": {
    "scrolled": true
   },
   "outputs": [],
   "source": []
  },
  {
   "cell_type": "code",
   "execution_count": null,
   "id": "dbc08e25-423a-4c1d-bcd6-a1764ac0a93b",
   "metadata": {
    "scrolled": true
   },
   "outputs": [],
   "source": []
  },
  {
   "cell_type": "code",
   "execution_count": null,
   "id": "759411ce-2309-4c8f-89f8-7ea59838de15",
   "metadata": {},
   "outputs": [],
   "source": [
    "DENTICLE_PAGES = [\n",
    "    ('1005933316','Elizabeth_P_596_v0.5'),\n",
    "    ('978726531','Jean_v0.5'),\n",
    "    ('1456282775','Anima_Modern_v0.5'),\n",
    "    ('864364141','Anima_596_v0.5'),\n",
    "    ('409938244','Elizabeth_P_v0.5'),\n",
    "    ('1401246793','Isa_v0.5'),\n",
    "    ('1508930583','Arleth_v0.5'),\n",
    "    ('2042780634','Nick_denticles_v0.5'),\n",
    "    ('445379200','Liz_Denticles_V0.5'),\n",
    "    ('1139734790','Whit_Denticles_V0.5'),\n",
    "]"
   ]
  },
  {
   "cell_type": "code",
   "execution_count": null,
   "id": "94118c9e-bb94-49e8-a4a5-b0bf21c325fc",
   "metadata": {},
   "outputs": [],
   "source": []
  },
  {
   "cell_type": "code",
   "execution_count": null,
   "id": "83384068-8606-4304-a614-9295b7f136e9",
   "metadata": {
    "scrolled": true
   },
   "outputs": [],
   "source": [
    "GID,TAB = DENTICLE_PAGES[0]\n",
    "\n",
    "url = TEMPLATE_GID.format(SHEET=SHEET_ID,GID=GID)\n",
    "print(url)\n",
    "df_tab = pd.read_csv(url, skiprows=1)\n",
    "truncate_cols_until = df_tab.columns.get_loc('Z1.1')-1\n",
    "keep_cols = list(df_tab.columns)[:truncate_cols_until]\n",
    "df_tab = df_tab[keep_cols]\n",
    "\n",
    "with pd.option_context('display.max_rows', None, 'display.max_columns', None):\n",
    "    display(df_tab.head(2).T)"
   ]
  },
  {
   "cell_type": "code",
   "execution_count": null,
   "id": "914ad1a4-46d1-41a6-95c6-0dd63bc54761",
   "metadata": {
    "scrolled": true
   },
   "outputs": [],
   "source": [
    "# Trim Descriptions off morpho-group column values\n",
    "for col in codegroups:\n",
    "    df_tab[col] = df_tab[col].str.split(n=1,expand=True)[0]\n",
    "df_tab.head(1)"
   ]
  },
  {
   "cell_type": "code",
   "execution_count": null,
   "id": "908e4f4b-93c3-4aa4-ac1b-469fab0ccaac",
   "metadata": {},
   "outputs": [],
   "source": [
    "df_tab.columns"
   ]
  },
  {
   "cell_type": "code",
   "execution_count": null,
   "id": "aeb4fbc6-eca3-4f69-b2d0-1850f37d744d",
   "metadata": {},
   "outputs": [],
   "source": [
    "FILENAME_COL = 'Full file name'\n",
    "SAMPLE_PARAMS = []\n",
    "[SAMPLE_PARAMS.append(col) for col in keep_cols if col not in ['Type',FILENAME_COL]+codegroups]\n",
    "SAMPLE_PARAMS"
   ]
  },
  {
   "cell_type": "code",
   "execution_count": null,
   "id": "64f22ab6-ce91-4510-9830-4f38853f0d71",
   "metadata": {},
   "outputs": [],
   "source": []
  },
  {
   "cell_type": "code",
   "execution_count": null,
   "id": "a4cb52b7-9f05-418e-8b94-44a588ff6f9d",
   "metadata": {},
   "outputs": [],
   "source": [
    "# VAST FILEPATH\n",
    "BASE='/user/esibert/ichthyolithBase'\n",
    "TEMPLATE = '{DSDP}/{DSDP}-{P}-{L}-{IODP}-{g}_Hwell_{Nof}_Mcompound_Oflat_I1_TzEDF-0_{X}/{DSDP}-{P}-{L}-{IODP}-{g}_{obj}_edf.tif'\n",
    "# DSDP-596-P001-L01-1H-2W-5-7cm-g106_Hwell_N1of1_Mcompound_Oflat_I1_TzEDF-0_X5\n",
    "# DSDP-596-P001-L01-1H-2W-5-7cm-g106_obj00001_edf.tif\n",
    "IODP = '{H}_{W}_{cm}' # core: 1H, section: 2W, interval: 5-7cm\n",
    "PID_TEMPLATE = '{DSDP}_{P}_{L}_{IODP}_{g}_{N}_{obj}.tif'"
   ]
  },
  {
   "cell_type": "code",
   "execution_count": null,
   "id": "ad1c938f-8c61-4756-8159-b7a8a9324894",
   "metadata": {},
   "outputs": [],
   "source": [
    "df_tab[FILENAME_COL].iloc[0]"
   ]
  },
  {
   "cell_type": "code",
   "execution_count": null,
   "id": "fe44dbbf-9671-4405-92d5-6957287b8f15",
   "metadata": {},
   "outputs": [],
   "source": [
    "# parse filename\n",
    "# DSDP-596-P001-L01-1H-2W-5-7cm-g106_obj00001_edf.tif\n",
    "pattern = '(?P<site>DSDP-\\d+)-(?P<slide>P\\d+)-(?P<sediment>[A-Za-z0-9]+)-(?P<core>\\d+H)-(?P<section>\\d+W)-(?P<interval>\\d+-\\d+cm)-(?P<fraction>g\\d+)_(?P<obj>obj\\d+)_edf.(?P<ext>tif|jpg)'\n",
    "extracted_columns = df_tab[FILENAME_COL].str.strip().str.extract(pattern)\n",
    "extracted_columns"
   ]
  },
  {
   "cell_type": "code",
   "execution_count": null,
   "id": "b7e9b55d-a7a9-4b73-a2af-c8c670a523a2",
   "metadata": {
    "scrolled": true
   },
   "outputs": [],
   "source": [
    "df = pd.concat([df_tab, extracted_columns], axis=1)\n",
    "print(list(df.columns))"
   ]
  },
  {
   "cell_type": "code",
   "execution_count": null,
   "id": "905f5c81-7d3f-486b-8635-0d93b43acd11",
   "metadata": {},
   "outputs": [],
   "source": [
    "# drop jpg columns\n",
    "df = df[df.ext=='tif']"
   ]
  },
  {
   "cell_type": "code",
   "execution_count": null,
   "id": "5e9d705c-1cb2-407d-8ce7-ea966c604a84",
   "metadata": {},
   "outputs": [],
   "source": [
    "df['iodp'] = df['core'] + '_' + df['section'] + '_' +df['interval']\n",
    "df['pid'] = df['site'] + '_' + df['slide'] + '_' + df['sediment'] + '_' + df['iodp'] + '_' +df['fraction'] + '_N' +df['Slide Hole'].astype(int).astype(str) + '_' +df['obj'] \n",
    "df.pid.tail()"
   ]
  },
  {
   "cell_type": "code",
   "execution_count": null,
   "id": "f11ece16-7fc1-4e78-a09e-7f080c7d71c9",
   "metadata": {
    "scrolled": true
   },
   "outputs": [],
   "source": [
    "# All PIDs properly parsed if is empty\n",
    "df[df.pid.isna()]"
   ]
  },
  {
   "cell_type": "code",
   "execution_count": null,
   "id": "e33addf1-6224-446a-bb22-0b101a706936",
   "metadata": {},
   "outputs": [],
   "source": []
  },
  {
   "cell_type": "code",
   "execution_count": null,
   "id": "24164fb6-cfb2-46aa-b36c-dd850ff83546",
   "metadata": {},
   "outputs": [],
   "source": []
  },
  {
   "cell_type": "code",
   "execution_count": null,
   "id": "849f6e36-d4a4-4e74-97eb-046fc0c1a26c",
   "metadata": {},
   "outputs": [],
   "source": []
  },
  {
   "cell_type": "code",
   "execution_count": null,
   "id": "d7e2b1f7-9ba9-4184-9ce6-2fef30e2d585",
   "metadata": {},
   "outputs": [],
   "source": [
    "# Find duplicate entries\n",
    "dupes1 = df[df[[FILENAME_COL,'Slide Hole']].duplicated(keep=False)]\n",
    "display(dupes1[['pid',FILENAME_COL, 'Slide Hole']])\n",
    "for idx,row in dupes1.iterrows():\n",
    "    print(row[FILENAME_COL])"
   ]
  },
  {
   "cell_type": "code",
   "execution_count": null,
   "id": "77c9bdf1-598a-4ac6-8bc7-cc4ae714bcd5",
   "metadata": {},
   "outputs": [],
   "source": [
    "# Find duplicate entries\n",
    "# here this may be caused by there being both .tif and .jpg versions of an image\n",
    "dupes2 = df[df['pid'].duplicated(keep=False)]\n",
    "display(dupes2[['pid',FILENAME_COL, 'Slide Hole']])\n",
    "for idx,row in dupes2.iterrows():\n",
    "    print(row[FILENAME_COL])"
   ]
  },
  {
   "cell_type": "code",
   "execution_count": null,
   "id": "efc1490f-5664-4b31-adb5-8184dac4fa2a",
   "metadata": {},
   "outputs": [],
   "source": [
    "#If there are any dupes they gotta be cleaned up"
   ]
  },
  {
   "cell_type": "code",
   "execution_count": null,
   "id": "a28c380b-626c-4f4e-aeb9-9c0f5bedd5a3",
   "metadata": {},
   "outputs": [],
   "source": [
    "len(df)"
   ]
  },
  {
   "cell_type": "code",
   "execution_count": null,
   "id": "c8a21e8c-0a11-4c21-83c8-85244d18006d",
   "metadata": {},
   "outputs": [],
   "source": []
  },
  {
   "cell_type": "code",
   "execution_count": null,
   "id": "d48c51f8-a01e-403a-87e8-1bb5ab8f5047",
   "metadata": {},
   "outputs": [],
   "source": [
    "# JPG duplicates\n",
    "y = dupes2[dupes2.ext=='jpg']\n",
    "y[y.pid.duplicated(keep=False)]"
   ]
  },
  {
   "cell_type": "code",
   "execution_count": null,
   "id": "285ac513-a46e-4d15-aeb4-75c2a73226ae",
   "metadata": {},
   "outputs": [],
   "source": [
    "# TIFF duplicates\n",
    "x = dupes2[dupes2.ext=='tif']\n",
    "x[x.pid.duplicated(keep=False)]"
   ]
  },
  {
   "cell_type": "code",
   "execution_count": null,
   "id": "05303af5-b63c-4732-b4d3-fe183cbfdcd6",
   "metadata": {},
   "outputs": [],
   "source": [
    "#df = df.drop(13109)"
   ]
  },
  {
   "cell_type": "code",
   "execution_count": null,
   "id": "a6ac27bc-560b-4653-a10a-60b00896b98d",
   "metadata": {},
   "outputs": [],
   "source": [
    "# demo only: test malformed row works as intended\n",
    "#df.loc[1,'A1'] = 'egg'\n",
    "#df.loc[0,'B3'] = 'nog'"
   ]
  },
  {
   "cell_type": "code",
   "execution_count": null,
   "id": "d69221cc-039c-44d9-9b2a-da9e4546266f",
   "metadata": {},
   "outputs": [],
   "source": []
  },
  {
   "cell_type": "code",
   "execution_count": null,
   "id": "7dd2ca72-6609-4a50-be9c-cb0a42a762ee",
   "metadata": {},
   "outputs": [],
   "source": [
    "# ANNOTATION VALIDATION #"
   ]
  },
  {
   "cell_type": "code",
   "execution_count": null,
   "id": "c5b1b5fc-0acd-4720-8df9-39c11e1a68dc",
   "metadata": {},
   "outputs": [],
   "source": [
    "validation = df[['pid']].copy()\n",
    "for codegroup,codes in cats.items():\n",
    "    validation[codegroup] = df[codegroup].dropna().apply( lambda x: x not in codes)\n",
    "validation = validation[validation[cats.keys()].any(axis=1)]\n",
    "validation_view = validation.replace(False, pd.NA).dropna(axis=1,how='all').fillna('')  # hide Columns with all Nan-or-False\n",
    "malformed_rows = validation_view.mask(validation==True, df) # show the bad value"
   ]
  },
  {
   "cell_type": "code",
   "execution_count": null,
   "id": "8ed77de9-0e65-4ef3-a437-ef605dd69fe5",
   "metadata": {},
   "outputs": [],
   "source": [
    "with pd.option_context('display.max_rows', None, 'display.max_columns', None):\n",
    "    display(malformed_rows)"
   ]
  },
  {
   "cell_type": "code",
   "execution_count": null,
   "id": "4b9fb8ea-5b8d-43f3-b421-afcab7afbf3f",
   "metadata": {},
   "outputs": [],
   "source": []
  },
  {
   "cell_type": "code",
   "execution_count": null,
   "id": "05d83106-5730-4784-97f0-345a78c15b22",
   "metadata": {},
   "outputs": [],
   "source": [
    "assert validation_view.empty, 'Validation Failed: Some cell values do not match categories'"
   ]
  },
  {
   "cell_type": "code",
   "execution_count": null,
   "id": "76ebfb76-a4a6-4d47-b147-07111237fab0",
   "metadata": {},
   "outputs": [],
   "source": []
  },
  {
   "cell_type": "code",
   "execution_count": null,
   "id": "391de086-69f3-4bd3-98c8-307b0f9f948a",
   "metadata": {},
   "outputs": [],
   "source": []
  },
  {
   "cell_type": "code",
   "execution_count": null,
   "id": "4ac1f8a3-01d1-4ae0-95b5-d6b5bc8b3fab",
   "metadata": {},
   "outputs": [],
   "source": [
    "# TODO combine multiple TAB df's to one. "
   ]
  },
  {
   "cell_type": "code",
   "execution_count": null,
   "id": "926ec448-134b-4661-9b61-f65ed1c20436",
   "metadata": {},
   "outputs": [],
   "source": []
  },
  {
   "cell_type": "code",
   "execution_count": null,
   "id": "14f71e2f-e957-4d4c-9a94-c3adfc617f2c",
   "metadata": {},
   "outputs": [],
   "source": []
  },
  {
   "cell_type": "markdown",
   "id": "c7d50ce1-8e79-451b-a811-b6b6a445147c",
   "metadata": {},
   "source": [
    "# generate filepaths"
   ]
  },
  {
   "cell_type": "code",
   "execution_count": null,
   "id": "198d938e-6c24-4d6b-a343-6ee3416fe859",
   "metadata": {},
   "outputs": [],
   "source": [
    "# VAST FILEPATH\n",
    "BASE='/user/esibert/ichthyolithBase/'\n",
    "TEMPLATE = '{DSDP}/{DSDP}-{P}-{L}-{IODP}-{g}_Hwell_{Nof}_Mcompound_Oflat_I1_TzEDF-0_{X}'\n",
    "\n",
    "## doesn't work on account of not all Slide Holes are present as part of this dataset.\n",
    "## this causes the Max to not be the true Max, and N1of2 is actually N1of3 and the directory fails\n",
    "#ofN = df.groupby(FILENAME_COL)['Slide Hole'].max()\n",
    "#df['Slide Hole Max'] = df[FILENAME_COL].map(ofN)\n",
    "\n",
    "with open('DSDP-596_dirs.list') as f:\n",
    "    vast_dirs = f.read().splitlines()\n",
    "vast_dirs_mapped = {d.split('of')[0]:d for d in vast_dirs}\n",
    "\n",
    "df['dir'] = df['site'] + '-' + df['slide'] + '-' + df['sediment'] + '-' + \\\n",
    "            df['core'] + '-' + df['section'] + '-' +df['interval'] + '-' +df['fraction'] + \\\n",
    "            '_Hwell_N' + df['Slide Hole'].astype(int).astype(str) \n",
    "            #+'of' + df['Slide Hole Max'].astype(str) + '_Mcompount_Oflat_I1_TzEDF-0_X5'\n",
    "\n",
    "df['dir'] = df.dir.apply(lambda d: vast_dirs_mapped[d])\n",
    "df['magnification'] = df['dir'].str.split('_').str[-1]\n",
    "df['Nof'] = df['dir'].str.split('_').str[-6]\n",
    "df['Slide Hole Max'] = df['Nof'].str.split('of').str[-1].astype(int)\n",
    "\n",
    "#df['magnification'] = 'X5'\n",
    "#df.loc[df.dir=='DSDP-596-P022-L44-2H-5W-4-6cm-g106_Hwell_N1of1_Mcompount_Oflat_I1_TzEDF-0','magnification'] = 'X6'\n",
    "#df.loc[df.dir=='DSDP-596-P023-M02-2H-5W-11-13cm-g106_Hwell_N1of1_Mcompount_Oflat_I1_TzEDF-0','magnification'] = 'X7'\n",
    "#df.loc[df.dir=='DSDP-596-P023-M03-2H-5W-16-18cm-g106_Hwell_N1of1_Mcompount_Oflat_I1_TzEDF-0','magnification'] = 'X8'\n",
    "#df.loc[df.dir=='DSDP-596-P024-M04-2H-5W-21-23cm-g106_Hwell_N1of1_Mcompount_Oflat_I1_TzEDF-0','magnification'] = 'X9'\n",
    "#df.loc[df.dir=='DSDP-596-P024-M05-2H-5W-26-28cm-g106_Hwell_N1of1_Mcompount_Oflat_I1_TzEDF-0','magnification'] = 'X10'\n",
    "\n",
    "#print(df[df.magnification!='X5']) # (may be None for given Tab dataset)\n",
    "\n",
    "#df.iloc[1].dir,df.iloc[1].magnification, df.iloc[1].Nof"
   ]
  },
  {
   "cell_type": "code",
   "execution_count": null,
   "id": "81195b45-6b68-4613-a009-aa06af9a1e46",
   "metadata": {},
   "outputs": [],
   "source": [
    "df['path'] = BASE + df.site + '/' + df.dir + '/final/focused/' + df[FILENAME_COL]\n",
    "df.iloc[1].path"
   ]
  },
  {
   "cell_type": "code",
   "execution_count": null,
   "id": "1634c902-9ea3-44ce-beee-5c3a32a32a07",
   "metadata": {},
   "outputs": [],
   "source": []
  },
  {
   "cell_type": "code",
   "execution_count": null,
   "id": "26a85db8-9c1e-4b93-a71d-2f18b124074c",
   "metadata": {},
   "outputs": [],
   "source": [
    "# write to CSV\n",
    "df.to_csv(f'{TAB}.csv', index=False)"
   ]
  },
  {
   "cell_type": "code",
   "execution_count": null,
   "id": "5e67c90f-a84b-4da4-9e3d-40b971215dd3",
   "metadata": {},
   "outputs": [],
   "source": [
    "# TODO write multiple CSVs, synergize their columns"
   ]
  },
  {
   "cell_type": "code",
   "execution_count": null,
   "id": "dad241b8-b375-437e-a3fd-ac5e2ed05591",
   "metadata": {},
   "outputs": [],
   "source": []
  },
  {
   "cell_type": "code",
   "execution_count": null,
   "id": "bb5c3c68-b886-4f62-ba97-7fa07e9182ca",
   "metadata": {},
   "outputs": [],
   "source": []
  },
  {
   "cell_type": "code",
   "execution_count": null,
   "id": "a1f62cfa-2ed6-4ad2-9ebc-335e04400525",
   "metadata": {},
   "outputs": [],
   "source": []
  },
  {
   "cell_type": "code",
   "execution_count": null,
   "id": "80a4f8b3-1dcb-4bc9-a2ef-feddccd19b5c",
   "metadata": {},
   "outputs": [],
   "source": []
  },
  {
   "cell_type": "code",
   "execution_count": null,
   "id": "1d0f494c-e7d2-4ef1-bd43-c7bf9d7a91e6",
   "metadata": {},
   "outputs": [],
   "source": []
  }
 ],
 "metadata": {
  "kernelspec": {
   "display_name": "Python 3 (ipykernel)",
   "language": "python",
   "name": "python3"
  },
  "language_info": {
   "codemirror_mode": {
    "name": "ipython",
    "version": 3
   },
   "file_extension": ".py",
   "mimetype": "text/x-python",
   "name": "python",
   "nbconvert_exporter": "python",
   "pygments_lexer": "ipython3",
   "version": "3.10.12"
  }
 },
 "nbformat": 4,
 "nbformat_minor": 5
}